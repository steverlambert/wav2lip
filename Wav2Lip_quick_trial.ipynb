{
 "cells": [
  {
   "cell_type": "markdown",
   "metadata": {
    "id": "vSQFs_G8caeE"
   },
   "source": [
    "# Collab preliminaries"
   ]
  },
  {
   "cell_type": "code",
   "execution_count": null,
   "metadata": {
    "colab": {
     "base_uri": "https://localhost:8080/",
     "height": 87
    },
    "executionInfo": {
     "elapsed": 814,
     "status": "ok",
     "timestamp": 1602547064620,
     "user": {
      "displayName": "Steve Lambert",
      "photoUrl": "https://lh3.googleusercontent.com/a-/AOh14GgyZ3KiqkNtC5pZpOOHhjemwBNq1XiV-_gZRQ_72q0=s64",
      "userId": "13912394651788375240"
     },
     "user_tz": 420
    },
    "id": "XIVB0Xn1g6ih",
    "outputId": "dca57d71-1bef-405b-bcec-e75e52b16990"
   },
   "outputs": [
    {
     "name": "stdout",
     "output_type": "stream",
     "text": [
      "nvcc: NVIDIA (R) Cuda compiler driver\n",
      "Copyright (c) 2005-2019 NVIDIA Corporation\n",
      "Built on Sun_Jul_28_19:07:16_PDT_2019\n",
      "Cuda compilation tools, release 10.1, V10.1.243\n"
     ]
    }
   ],
   "source": [
    "!nvcc --version"
   ]
  },
  {
   "cell_type": "code",
   "execution_count": null,
   "metadata": {
    "colab": {
     "base_uri": "https://localhost:8080/",
     "height": 35
    },
    "executionInfo": {
     "elapsed": 18894,
     "status": "ok",
     "timestamp": 1602881474120,
     "user": {
      "displayName": "Steve Lambert",
      "photoUrl": "https://lh3.googleusercontent.com/a-/AOh14GgyZ3KiqkNtC5pZpOOHhjemwBNq1XiV-_gZRQ_72q0=s64",
      "userId": "13912394651788375240"
     },
     "user_tz": 420
    },
    "id": "qciH4PsUazL_",
    "outputId": "d2114cdc-d06a-4c2a-a990-e88fbb51f7af"
   },
   "outputs": [
    {
     "name": "stdout",
     "output_type": "stream",
     "text": [
      "Mounted at /content/gdrive\n"
     ]
    }
   ],
   "source": [
    "from google.colab import drive\n",
    "drive.mount('/content/gdrive')"
   ]
  },
  {
   "cell_type": "code",
   "execution_count": null,
   "metadata": {
    "colab": {
     "base_uri": "https://localhost:8080/",
     "height": 35
    },
    "executionInfo": {
     "elapsed": 487,
     "status": "ok",
     "timestamp": 1602881477720,
     "user": {
      "displayName": "Steve Lambert",
      "photoUrl": "https://lh3.googleusercontent.com/a-/AOh14GgyZ3KiqkNtC5pZpOOHhjemwBNq1XiV-_gZRQ_72q0=s64",
      "userId": "13912394651788375240"
     },
     "user_tz": 420
    },
    "id": "a2cxJLZ51vT4",
    "outputId": "48c3ff7a-3e7f-40ce-9b07-82c1c81ea753"
   },
   "outputs": [
    {
     "name": "stdout",
     "output_type": "stream",
     "text": [
      "/content/gdrive/My Drive/wav2lip\n"
     ]
    }
   ],
   "source": [
    "%cd './gdrive/My Drive/wav2lip'"
   ]
  },
  {
   "cell_type": "markdown",
   "metadata": {
    "id": "yJ5taGmPcWV-"
   },
   "source": [
    "# Get the code and models"
   ]
  },
  {
   "cell_type": "code",
   "execution_count": null,
   "metadata": {
    "id": "P3LihClHbUd3"
   },
   "outputs": [],
   "source": []
  },
  {
   "cell_type": "code",
   "execution_count": null,
   "metadata": {
    "colab": {
     "base_uri": "https://localhost:8080/",
     "height": 34
    },
    "id": "y-19nzx8SamJ",
    "outputId": "f403d610-9eb7-45f8-95c8-0cd5b053565d"
   },
   "outputs": [
    {
     "name": "stdout",
     "output_type": "stream",
     "text": [
      "sample_data  Wav2Lip\n"
     ]
    }
   ],
   "source": [
    "!ls"
   ]
  },
  {
   "cell_type": "code",
   "execution_count": null,
   "metadata": {
    "id": "YjzMPy_Sb0AI"
   },
   "outputs": [],
   "source": [
    "!cp -ri \"/content/gdrive/My Drive/Wav2lip/wav2lip_gan.pth\" /content/Wav2Lip/checkpoints/"
   ]
  },
  {
   "cell_type": "markdown",
   "metadata": {
    "id": "aWTaOS3ncFt6"
   },
   "source": [
    "# Get the pre-requisites"
   ]
  },
  {
   "cell_type": "code",
   "execution_count": null,
   "metadata": {
    "colab": {
     "base_uri": "https://localhost:8080/",
     "height": 1000
    },
    "executionInfo": {
     "elapsed": 179221,
     "status": "ok",
     "timestamp": 1602881664209,
     "user": {
      "displayName": "Steve Lambert",
      "photoUrl": "https://lh3.googleusercontent.com/a-/AOh14GgyZ3KiqkNtC5pZpOOHhjemwBNq1XiV-_gZRQ_72q0=s64",
      "userId": "13912394651788375240"
     },
     "user_tz": 420
    },
    "id": "Ooh28vw-Uvd3",
    "outputId": "6488bfe3-e1f7-4ab7-b28e-c7108112376a"
   },
   "outputs": [
    {
     "name": "stdout",
     "output_type": "stream",
     "text": [
      "\u001b[33mWARNING: Skipping tensorflow as it is not installed.\u001b[0m\n",
      "\u001b[33mWARNING: Skipping tensorflow-gpu as it is not installed.\u001b[0m\n",
      "Collecting librosa==0.7.0\n",
      "\u001b[?25l  Downloading https://files.pythonhosted.org/packages/ad/6e/0eb0de1c9c4e02df0b40e56f258eb79bd957be79b918511a184268e01720/librosa-0.7.0.tar.gz (1.6MB)\n",
      "\u001b[K     |████████████████████████████████| 1.6MB 4.9MB/s \n",
      "\u001b[?25hCollecting numpy==1.17.1\n",
      "\u001b[?25l  Downloading https://files.pythonhosted.org/packages/75/92/57179ed45307ec6179e344231c47da7f3f3da9e2eee5c8ab506bd279ce4e/numpy-1.17.1-cp36-cp36m-manylinux1_x86_64.whl (20.4MB)\n",
      "\u001b[K     |████████████████████████████████| 20.4MB 7.3MB/s \n",
      "\u001b[?25hCollecting opencv-contrib-python==4.2.0.34\n",
      "\u001b[?25l  Downloading https://files.pythonhosted.org/packages/c6/db/790dbc6bcfea87fc6f790c6306509c2691ce31c96d82e5b826545d90ea52/opencv_contrib_python-4.2.0.34-cp36-cp36m-manylinux1_x86_64.whl (34.2MB)\n",
      "\u001b[K     |████████████████████████████████| 34.2MB 62kB/s \n",
      "\u001b[?25hCollecting opencv-python==4.1.0.25\n",
      "\u001b[?25l  Downloading https://files.pythonhosted.org/packages/7b/d2/a2dbf83d4553ca6b3701d91d75e42fe50aea97acdc00652dca515749fb5d/opencv_python-4.1.0.25-cp36-cp36m-manylinux1_x86_64.whl (26.6MB)\n",
      "\u001b[K     |████████████████████████████████| 26.6MB 113kB/s \n",
      "\u001b[?25hCollecting tensorflow==1.12.0\n",
      "\u001b[?25l  Downloading https://files.pythonhosted.org/packages/22/cc/ca70b78087015d21c5f3f93694107f34ebccb3be9624385a911d4b52ecef/tensorflow-1.12.0-cp36-cp36m-manylinux1_x86_64.whl (83.1MB)\n",
      "\u001b[K     |████████████████████████████████| 83.1MB 124kB/s \n",
      "\u001b[?25hCollecting torch==1.1.0\n",
      "\u001b[?25l  Downloading https://files.pythonhosted.org/packages/69/60/f685fb2cfb3088736bafbc9bdbb455327bdc8906b606da9c9a81bae1c81e/torch-1.1.0-cp36-cp36m-manylinux1_x86_64.whl (676.9MB)\n",
      "\u001b[K     |████████████████████████████████| 676.9MB 26kB/s \n",
      "\u001b[?25hCollecting torchvision==0.3.0\n",
      "\u001b[?25l  Downloading https://files.pythonhosted.org/packages/2e/45/0f2f3062c92d9cf1d5d7eabd3cae88cea9affbd2b17fb1c043627838cb0a/torchvision-0.3.0-cp36-cp36m-manylinux1_x86_64.whl (2.6MB)\n",
      "\u001b[K     |████████████████████████████████| 2.6MB 41.8MB/s \n",
      "\u001b[?25hCollecting tqdm==4.45.0\n",
      "\u001b[?25l  Downloading https://files.pythonhosted.org/packages/4a/1c/6359be64e8301b84160f6f6f7936bbfaaa5e9a4eab6cbc681db07600b949/tqdm-4.45.0-py2.py3-none-any.whl (60kB)\n",
      "\u001b[K     |████████████████████████████████| 61kB 9.4MB/s \n",
      "\u001b[?25hRequirement already satisfied: numba==0.48 in /usr/local/lib/python3.6/dist-packages (from -r requirements.txt (line 9)) (0.48.0)\n",
      "Requirement already satisfied: audioread>=2.0.0 in /usr/local/lib/python3.6/dist-packages (from librosa==0.7.0->-r requirements.txt (line 1)) (2.1.8)\n",
      "Requirement already satisfied: scipy>=1.0.0 in /usr/local/lib/python3.6/dist-packages (from librosa==0.7.0->-r requirements.txt (line 1)) (1.4.1)\n",
      "Requirement already satisfied: scikit-learn!=0.19.0,>=0.14.0 in /usr/local/lib/python3.6/dist-packages (from librosa==0.7.0->-r requirements.txt (line 1)) (0.22.2.post1)\n",
      "Requirement already satisfied: joblib>=0.12 in /usr/local/lib/python3.6/dist-packages (from librosa==0.7.0->-r requirements.txt (line 1)) (0.16.0)\n",
      "Requirement already satisfied: decorator>=3.0.0 in /usr/local/lib/python3.6/dist-packages (from librosa==0.7.0->-r requirements.txt (line 1)) (4.4.2)\n",
      "Requirement already satisfied: six>=1.3 in /usr/local/lib/python3.6/dist-packages (from librosa==0.7.0->-r requirements.txt (line 1)) (1.15.0)\n",
      "Requirement already satisfied: resampy>=0.2.0 in /usr/local/lib/python3.6/dist-packages (from librosa==0.7.0->-r requirements.txt (line 1)) (0.2.2)\n",
      "Collecting soundfile>=0.9.0\n",
      "  Downloading https://files.pythonhosted.org/packages/eb/f2/3cbbbf3b96fb9fa91582c438b574cff3f45b29c772f94c400e2c99ef5db9/SoundFile-0.10.3.post1-py2.py3-none-any.whl\n",
      "Requirement already satisfied: wheel>=0.26 in /usr/local/lib/python3.6/dist-packages (from tensorflow==1.12.0->-r requirements.txt (line 5)) (0.35.1)\n",
      "Requirement already satisfied: keras-preprocessing>=1.0.5 in /usr/local/lib/python3.6/dist-packages (from tensorflow==1.12.0->-r requirements.txt (line 5)) (1.1.2)\n",
      "Requirement already satisfied: grpcio>=1.8.6 in /usr/local/lib/python3.6/dist-packages (from tensorflow==1.12.0->-r requirements.txt (line 5)) (1.32.0)\n",
      "Requirement already satisfied: termcolor>=1.1.0 in /usr/local/lib/python3.6/dist-packages (from tensorflow==1.12.0->-r requirements.txt (line 5)) (1.1.0)\n",
      "Collecting keras-applications>=1.0.6\n",
      "\u001b[?25l  Downloading https://files.pythonhosted.org/packages/71/e3/19762fdfc62877ae9102edf6342d71b28fbfd9dea3d2f96a882ce099b03f/Keras_Applications-1.0.8-py3-none-any.whl (50kB)\n",
      "\u001b[K     |████████████████████████████████| 51kB 9.3MB/s \n",
      "\u001b[?25hRequirement already satisfied: astor>=0.6.0 in /usr/local/lib/python3.6/dist-packages (from tensorflow==1.12.0->-r requirements.txt (line 5)) (0.8.1)\n",
      "Requirement already satisfied: protobuf>=3.6.1 in /usr/local/lib/python3.6/dist-packages (from tensorflow==1.12.0->-r requirements.txt (line 5)) (3.12.4)\n",
      "Collecting tensorboard<1.13.0,>=1.12.0\n",
      "\u001b[?25l  Downloading https://files.pythonhosted.org/packages/07/53/8d32ce9471c18f8d99028b7cef2e5b39ea8765bd7ef250ca05b490880971/tensorboard-1.12.2-py3-none-any.whl (3.0MB)\n",
      "\u001b[K     |████████████████████████████████| 3.1MB 40.5MB/s \n",
      "\u001b[?25hRequirement already satisfied: absl-py>=0.1.6 in /usr/local/lib/python3.6/dist-packages (from tensorflow==1.12.0->-r requirements.txt (line 5)) (0.10.0)\n",
      "Requirement already satisfied: gast>=0.2.0 in /usr/local/lib/python3.6/dist-packages (from tensorflow==1.12.0->-r requirements.txt (line 5)) (0.3.3)\n",
      "Requirement already satisfied: pillow>=4.1.1 in /usr/local/lib/python3.6/dist-packages (from torchvision==0.3.0->-r requirements.txt (line 7)) (7.0.0)\n",
      "Requirement already satisfied: llvmlite<0.32.0,>=0.31.0dev0 in /usr/local/lib/python3.6/dist-packages (from numba==0.48->-r requirements.txt (line 9)) (0.31.0)\n",
      "Requirement already satisfied: setuptools in /usr/local/lib/python3.6/dist-packages (from numba==0.48->-r requirements.txt (line 9)) (50.3.0)\n",
      "Requirement already satisfied: cffi>=1.0 in /usr/local/lib/python3.6/dist-packages (from soundfile>=0.9.0->librosa==0.7.0->-r requirements.txt (line 1)) (1.14.3)\n",
      "Requirement already satisfied: h5py in /usr/local/lib/python3.6/dist-packages (from keras-applications>=1.0.6->tensorflow==1.12.0->-r requirements.txt (line 5)) (2.10.0)\n",
      "Requirement already satisfied: werkzeug>=0.11.10 in /usr/local/lib/python3.6/dist-packages (from tensorboard<1.13.0,>=1.12.0->tensorflow==1.12.0->-r requirements.txt (line 5)) (1.0.1)\n",
      "Requirement already satisfied: markdown>=2.6.8 in /usr/local/lib/python3.6/dist-packages (from tensorboard<1.13.0,>=1.12.0->tensorflow==1.12.0->-r requirements.txt (line 5)) (3.2.2)\n",
      "Requirement already satisfied: pycparser in /usr/local/lib/python3.6/dist-packages (from cffi>=1.0->soundfile>=0.9.0->librosa==0.7.0->-r requirements.txt (line 1)) (2.20)\n",
      "Requirement already satisfied: importlib-metadata; python_version < \"3.8\" in /usr/local/lib/python3.6/dist-packages (from markdown>=2.6.8->tensorboard<1.13.0,>=1.12.0->tensorflow==1.12.0->-r requirements.txt (line 5)) (2.0.0)\n",
      "Requirement already satisfied: zipp>=0.5 in /usr/local/lib/python3.6/dist-packages (from importlib-metadata; python_version < \"3.8\"->markdown>=2.6.8->tensorboard<1.13.0,>=1.12.0->tensorflow==1.12.0->-r requirements.txt (line 5)) (3.2.0)\n",
      "Building wheels for collected packages: librosa\n",
      "  Building wheel for librosa (setup.py) ... \u001b[?25l\u001b[?25hdone\n",
      "  Created wheel for librosa: filename=librosa-0.7.0-cp36-none-any.whl size=1598345 sha256=d2eae41f833897899245e2efbe82dddf95bf6b7b822909525c9ef2b1857de1af\n",
      "  Stored in directory: /root/.cache/pip/wheels/49/1d/38/c8ad12fcad67569d8e730c3275be5e581bd589558484a0f881\n",
      "Successfully built librosa\n",
      "\u001b[31mERROR: datascience 0.10.6 has requirement folium==0.2.1, but you'll have folium 0.8.3 which is incompatible.\u001b[0m\n",
      "\u001b[31mERROR: albumentations 0.1.12 has requirement imgaug<0.2.7,>=0.2.5, but you'll have imgaug 0.2.9 which is incompatible.\u001b[0m\n",
      "Installing collected packages: numpy, soundfile, librosa, opencv-contrib-python, opencv-python, keras-applications, tensorboard, tensorflow, torch, torchvision, tqdm\n",
      "  Found existing installation: numpy 1.18.5\n",
      "    Uninstalling numpy-1.18.5:\n",
      "      Successfully uninstalled numpy-1.18.5\n",
      "  Found existing installation: librosa 0.6.3\n",
      "    Uninstalling librosa-0.6.3:\n",
      "      Successfully uninstalled librosa-0.6.3\n",
      "  Found existing installation: opencv-contrib-python 4.1.2.30\n",
      "    Uninstalling opencv-contrib-python-4.1.2.30:\n",
      "      Successfully uninstalled opencv-contrib-python-4.1.2.30\n",
      "  Found existing installation: opencv-python 4.1.2.30\n",
      "    Uninstalling opencv-python-4.1.2.30:\n",
      "      Successfully uninstalled opencv-python-4.1.2.30\n",
      "  Found existing installation: tensorboard 2.3.0\n",
      "    Uninstalling tensorboard-2.3.0:\n",
      "      Successfully uninstalled tensorboard-2.3.0\n",
      "  Found existing installation: torch 1.6.0+cu101\n",
      "    Uninstalling torch-1.6.0+cu101:\n",
      "      Successfully uninstalled torch-1.6.0+cu101\n",
      "  Found existing installation: torchvision 0.7.0+cu101\n",
      "    Uninstalling torchvision-0.7.0+cu101:\n",
      "      Successfully uninstalled torchvision-0.7.0+cu101\n",
      "  Found existing installation: tqdm 4.41.1\n",
      "    Uninstalling tqdm-4.41.1:\n",
      "      Successfully uninstalled tqdm-4.41.1\n",
      "Successfully installed keras-applications-1.0.8 librosa-0.7.0 numpy-1.17.1 opencv-contrib-python-4.2.0.34 opencv-python-4.1.0.25 soundfile-0.10.3.post1 tensorboard-1.12.2 tensorflow-1.12.0 torch-1.1.0 torchvision-0.3.0 tqdm-4.45.0\n"
     ]
    },
    {
     "data": {
      "application/vnd.colab-display-data+json": {
       "pip_warning": {
        "packages": [
         "numpy"
        ]
       }
      }
     },
     "metadata": {
      "tags": []
     },
     "output_type": "display_data"
    }
   ],
   "source": [
    "!pip uninstall tensorflow tensorflow-gpu\n",
    "!pip install -r requirements.txt"
   ]
  },
  {
   "cell_type": "code",
   "execution_count": null,
   "metadata": {
    "id": "49dCYlLdcK2D"
   },
   "outputs": [],
   "source": []
  },
  {
   "cell_type": "code",
   "execution_count": null,
   "metadata": {
    "colab": {
     "base_uri": "https://localhost:8080/",
     "height": 204
    },
    "id": "ey_bN4M6X_95",
    "outputId": "40ea1940-5630-481f-8ce3-118908999d8b"
   },
   "outputs": [
    {
     "name": "stdout",
     "output_type": "stream",
     "text": [
      "--2020-08-24 16:50:30--  https://www.adrianbulat.com/downloads/python-fan/s3fd-619a316812.pth\n",
      "Resolving www.adrianbulat.com (www.adrianbulat.com)... 95.179.192.69\n",
      "Connecting to www.adrianbulat.com (www.adrianbulat.com)|95.179.192.69|:443... connected.\n",
      "HTTP request sent, awaiting response... 200 OK\n",
      "Length: 89843225 (86M) [application/octet-stream]\n",
      "Saving to: ‘Wav2Lip/face_detection/detection/sfd/s3fd.pth’\n",
      "\n",
      "Wav2Lip/face_detect 100%[===================>]  85.68M   499KB/s    in 2m 55s  \n",
      "\n",
      "2020-08-24 16:53:25 (502 KB/s) - ‘Wav2Lip/face_detection/detection/sfd/s3fd.pth’ saved [89843225/89843225]\n",
      "\n"
     ]
    }
   ],
   "source": [
    "!wget \"https://www.adrianbulat.com/downloads/python-fan/s3fd-619a316812.pth\" -O \"Wav2Lip/face_detection/detection/sfd/s3fd.pth\""
   ]
  },
  {
   "cell_type": "markdown",
   "metadata": {
    "id": "qdIQfY2Kswcb"
   },
   "source": [
    "# Now lets try!"
   ]
  },
  {
   "cell_type": "code",
   "execution_count": null,
   "metadata": {
    "colab": {
     "base_uri": "https://localhost:8080/",
     "height": 68
    },
    "id": "KoVGMtjRZfeR",
    "outputId": "a65ca468-7beb-45f7-c174-724c239d4475"
   },
   "outputs": [
    {
     "name": "stdout",
     "output_type": "stream",
     "text": [
      "anscombe.json\t\t      input_audio.wav  mnist_train_small.csv\n",
      "california_housing_test.csv   input_vid.mp4    README.md\n",
      "california_housing_train.csv  mnist_test.csv\n"
     ]
    }
   ],
   "source": []
  },
  {
   "cell_type": "code",
   "execution_count": null,
   "metadata": {
    "colab": {
     "base_uri": "https://localhost:8080/",
     "height": 1000
    },
    "executionInfo": {
     "elapsed": 48100,
     "status": "ok",
     "timestamp": 1602881839924,
     "user": {
      "displayName": "Steve Lambert",
      "photoUrl": "https://lh3.googleusercontent.com/a-/AOh14GgyZ3KiqkNtC5pZpOOHhjemwBNq1XiV-_gZRQ_72q0=s64",
      "userId": "13912394651788375240"
     },
     "user_tz": 420
    },
    "id": "jR5utmDMcSZY",
    "outputId": "f9be351d-f356-4ac0-d625-f5811e7548c5"
   },
   "outputs": [
    {
     "name": "stdout",
     "output_type": "stream",
     "text": [
      "/usr/local/lib/python3.6/dist-packages/tensorflow/python/framework/dtypes.py:523: FutureWarning: Passing (type, 1) or '1type' as a synonym of type is deprecated; in a future version of numpy, it will be understood as (type, (1,)) / '(1,)type'.\n",
      "  _np_qint8 = np.dtype([(\"qint8\", np.int8, 1)])\n",
      "/usr/local/lib/python3.6/dist-packages/tensorflow/python/framework/dtypes.py:524: FutureWarning: Passing (type, 1) or '1type' as a synonym of type is deprecated; in a future version of numpy, it will be understood as (type, (1,)) / '(1,)type'.\n",
      "  _np_quint8 = np.dtype([(\"quint8\", np.uint8, 1)])\n",
      "/usr/local/lib/python3.6/dist-packages/tensorflow/python/framework/dtypes.py:525: FutureWarning: Passing (type, 1) or '1type' as a synonym of type is deprecated; in a future version of numpy, it will be understood as (type, (1,)) / '(1,)type'.\n",
      "  _np_qint16 = np.dtype([(\"qint16\", np.int16, 1)])\n",
      "/usr/local/lib/python3.6/dist-packages/tensorflow/python/framework/dtypes.py:526: FutureWarning: Passing (type, 1) or '1type' as a synonym of type is deprecated; in a future version of numpy, it will be understood as (type, (1,)) / '(1,)type'.\n",
      "  _np_quint16 = np.dtype([(\"quint16\", np.uint16, 1)])\n",
      "/usr/local/lib/python3.6/dist-packages/tensorflow/python/framework/dtypes.py:527: FutureWarning: Passing (type, 1) or '1type' as a synonym of type is deprecated; in a future version of numpy, it will be understood as (type, (1,)) / '(1,)type'.\n",
      "  _np_qint32 = np.dtype([(\"qint32\", np.int32, 1)])\n",
      "/usr/local/lib/python3.6/dist-packages/tensorflow/python/framework/dtypes.py:532: FutureWarning: Passing (type, 1) or '1type' as a synonym of type is deprecated; in a future version of numpy, it will be understood as (type, (1,)) / '(1,)type'.\n",
      "  np_resource = np.dtype([(\"resource\", np.ubyte, 1)])\n",
      "Using cuda for inference.\n",
      "Reading video frames...\n",
      "Number of frames available for inference: 759\n",
      "Extracting raw audio...\n",
      "ffmpeg version 3.4.8-0ubuntu0.2 Copyright (c) 2000-2020 the FFmpeg developers\n",
      "  built with gcc 7 (Ubuntu 7.5.0-3ubuntu1~18.04)\n",
      "  configuration: --prefix=/usr --extra-version=0ubuntu0.2 --toolchain=hardened --libdir=/usr/lib/x86_64-linux-gnu --incdir=/usr/include/x86_64-linux-gnu --enable-gpl --disable-stripping --enable-avresample --enable-avisynth --enable-gnutls --enable-ladspa --enable-libass --enable-libbluray --enable-libbs2b --enable-libcaca --enable-libcdio --enable-libflite --enable-libfontconfig --enable-libfreetype --enable-libfribidi --enable-libgme --enable-libgsm --enable-libmp3lame --enable-libmysofa --enable-libopenjpeg --enable-libopenmpt --enable-libopus --enable-libpulse --enable-librubberband --enable-librsvg --enable-libshine --enable-libsnappy --enable-libsoxr --enable-libspeex --enable-libssh --enable-libtheora --enable-libtwolame --enable-libvorbis --enable-libvpx --enable-libwavpack --enable-libwebp --enable-libx265 --enable-libxml2 --enable-libxvid --enable-libzmq --enable-libzvbi --enable-omx --enable-openal --enable-opengl --enable-sdl2 --enable-libdc1394 --enable-libdrm --enable-libiec61883 --enable-chromaprint --enable-frei0r --enable-libopencv --enable-libx264 --enable-shared\n",
      "  libavutil      55. 78.100 / 55. 78.100\n",
      "  libavcodec     57.107.100 / 57.107.100\n",
      "  libavformat    57. 83.100 / 57. 83.100\n",
      "  libavdevice    57. 10.100 / 57. 10.100\n",
      "  libavfilter     6.107.100 /  6.107.100\n",
      "  libavresample   3.  7.  0 /  3.  7.  0\n",
      "  libswscale      4.  8.100 /  4.  8.100\n",
      "  libswresample   2.  9.100 /  2.  9.100\n",
      "  libpostproc    54.  7.100 / 54.  7.100\n",
      "\u001b[0;35m[mp3 @ 0x565044564000] \u001b[0m\u001b[0;33mEstimating duration from bitrate, this may be inaccurate\n",
      "\u001b[0mInput #0, mp3, from './audio/intro_amy.mp3':\n",
      "  Metadata:\n",
      "    encoder         : Lavf57.71.100\n",
      "  Duration: 00:00:35.83, start: 0.000000, bitrate: 48 kb/s\n",
      "    Stream #0:0: Audio: mp3, 24000 Hz, mono, s16p, 48 kb/s\n",
      "Stream mapping:\n",
      "  Stream #0:0 -> #0:0 (mp3 (native) -> pcm_s16le (native))\n",
      "Press [q] to stop, [?] for help\n",
      "Output #0, wav, to 'temp/temp.wav':\n",
      "  Metadata:\n",
      "    ISFT            : Lavf57.83.100\n",
      "    Stream #0:0: Audio: pcm_s16le ([1][0][0][0] / 0x0001), 24000 Hz, mono, s16, 384 kb/s\n",
      "    Metadata:\n",
      "      encoder         : Lavc57.107.100 pcm_s16le\n",
      "\u001b[0;36m[mp3 @ 0x565044580a00] \u001b[0moverread, skip -7 enddists: -2 -2\n",
      "\u001b[0;36m[mp3 @ 0x565044580a00] \u001b[0moverread, skip -9 enddists: -2 -2\n",
      "\u001b[0;36m[mp3 @ 0x565044580a00] \u001b[0moverread, skip -7 enddists: -6 -6\n",
      "\u001b[0;36m[mp3 @ 0x565044580a00] \u001b[0moverread, skip -8 enddists: -5 -5\n",
      "\u001b[0;36m[mp3 @ 0x565044580a00] \u001b[0moverread, skip -6 enddists: -2 -2\n",
      "size=    1680kB time=00:00:35.83 bitrate= 384.0kbits/s speed= 812x    \n",
      "video:0kB audio:1680kB subtitle:0kB other streams:0kB global headers:0kB muxing overhead: 0.004535%\n",
      "(80, 2867)\n",
      "Length of mel chunks: 1071\n",
      "  0% 0/9 [00:00<?, ?it/s]\n",
      "  0% 0/48 [00:00<?, ?it/s]\u001b[ATHCudaCheck FAIL file=/pytorch/aten/src/THC/THCGeneral.cpp line=383 error=11 : invalid argument\n",
      "  0% 0/48 [00:00<?, ?it/s]\n",
      "Recovering from OOM error; New batch size: 8\n",
      "\n",
      "  0% 0/95 [00:00<?, ?it/s]\u001b[A\n",
      "  1% 1/95 [00:02<03:26,  2.20s/it]\u001b[A\n",
      "  2% 2/95 [00:02<02:26,  1.58s/it]\u001b[A\n",
      "  3% 3/95 [00:02<01:45,  1.14s/it]\u001b[A\n",
      "  4% 4/95 [00:02<01:16,  1.18it/s]\u001b[A\n",
      "  5% 5/95 [00:02<00:56,  1.60it/s]\u001b[A\n",
      "  6% 6/95 [00:02<00:42,  2.09it/s]\u001b[A\n",
      "  7% 7/95 [00:02<00:32,  2.68it/s]\u001b[A\n",
      "  8% 8/95 [00:03<00:26,  3.34it/s]\u001b[A\n",
      "  9% 9/95 [00:03<00:21,  4.01it/s]\u001b[A\n",
      " 11% 10/95 [00:03<00:18,  4.65it/s]\u001b[A\n",
      " 12% 11/95 [00:03<00:15,  5.28it/s]\u001b[A\n",
      " 13% 12/95 [00:03<00:14,  5.86it/s]\u001b[A\n",
      " 14% 13/95 [00:03<00:12,  6.50it/s]\u001b[A\n",
      " 15% 14/95 [00:03<00:11,  7.02it/s]\u001b[A\n",
      " 16% 15/95 [00:03<00:10,  7.37it/s]\u001b[A\n",
      " 17% 16/95 [00:04<00:10,  7.70it/s]\u001b[A\n",
      " 18% 17/95 [00:04<00:09,  8.01it/s]\u001b[A\n",
      " 19% 18/95 [00:04<00:09,  8.25it/s]\u001b[A\n",
      " 20% 19/95 [00:04<00:09,  8.34it/s]\u001b[A\n",
      " 21% 20/95 [00:04<00:08,  8.40it/s]\u001b[A\n",
      " 22% 21/95 [00:04<00:08,  8.38it/s]\u001b[A\n",
      " 23% 22/95 [00:04<00:08,  8.30it/s]\u001b[A\n",
      " 24% 23/95 [00:04<00:08,  8.29it/s]\u001b[A\n",
      " 25% 24/95 [00:05<00:08,  8.27it/s]\u001b[A\n",
      " 26% 25/95 [00:05<00:08,  8.20it/s]\u001b[A\n",
      " 27% 26/95 [00:05<00:08,  8.30it/s]\u001b[A\n",
      " 28% 27/95 [00:05<00:08,  8.31it/s]\u001b[A\n",
      " 29% 28/95 [00:05<00:07,  8.46it/s]\u001b[A\n",
      " 31% 29/95 [00:05<00:07,  8.55it/s]\u001b[A\n",
      " 32% 30/95 [00:05<00:07,  8.45it/s]\u001b[A\n",
      " 33% 31/95 [00:05<00:07,  8.41it/s]\u001b[A\n",
      " 34% 32/95 [00:06<00:07,  8.24it/s]\u001b[A\n",
      " 35% 33/95 [00:06<00:07,  8.31it/s]\u001b[A\n",
      " 36% 34/95 [00:06<00:07,  8.26it/s]\u001b[A\n",
      " 37% 35/95 [00:06<00:07,  8.16it/s]\u001b[A\n",
      " 38% 36/95 [00:06<00:07,  7.99it/s]\u001b[A\n",
      " 39% 37/95 [00:06<00:07,  7.85it/s]\u001b[A\n",
      " 40% 38/95 [00:06<00:07,  7.85it/s]\u001b[A\n",
      " 41% 39/95 [00:06<00:07,  7.89it/s]\u001b[A\n",
      " 42% 40/95 [00:07<00:06,  7.93it/s]\u001b[A\n",
      " 43% 41/95 [00:07<00:06,  8.20it/s]\u001b[A\n",
      " 44% 42/95 [00:07<00:06,  8.35it/s]\u001b[A\n",
      " 45% 43/95 [00:07<00:06,  8.29it/s]\u001b[A\n",
      " 46% 44/95 [00:07<00:06,  8.26it/s]\u001b[A\n",
      " 47% 45/95 [00:07<00:06,  8.28it/s]\u001b[A\n",
      " 48% 46/95 [00:07<00:05,  8.27it/s]\u001b[A\n",
      " 49% 47/95 [00:07<00:05,  8.18it/s]\u001b[A\n",
      " 51% 48/95 [00:07<00:05,  8.06it/s]\u001b[A\n",
      " 52% 49/95 [00:08<00:06,  7.65it/s]\u001b[A\n",
      " 53% 50/95 [00:08<00:06,  7.48it/s]\u001b[A\n",
      " 54% 51/95 [00:08<00:05,  7.56it/s]\u001b[A\n",
      " 55% 52/95 [00:08<00:05,  7.76it/s]\u001b[A\n",
      " 56% 53/95 [00:08<00:05,  7.81it/s]\u001b[A\n",
      " 57% 54/95 [00:08<00:05,  7.70it/s]\u001b[A\n",
      " 58% 55/95 [00:08<00:05,  7.64it/s]\u001b[A\n",
      " 59% 56/95 [00:09<00:04,  7.84it/s]\u001b[A\n",
      " 60% 57/95 [00:09<00:04,  7.99it/s]\u001b[A\n",
      " 61% 58/95 [00:09<00:04,  7.90it/s]\u001b[A\n",
      " 62% 59/95 [00:09<00:04,  8.06it/s]\u001b[A\n",
      " 63% 60/95 [00:09<00:04,  8.09it/s]\u001b[A\n",
      " 64% 61/95 [00:09<00:04,  8.09it/s]\u001b[A\n",
      " 65% 62/95 [00:09<00:04,  7.94it/s]\u001b[A\n",
      " 66% 63/95 [00:09<00:03,  8.06it/s]\u001b[A\n",
      " 67% 64/95 [00:10<00:03,  8.20it/s]\u001b[A\n",
      " 68% 65/95 [00:10<00:03,  8.01it/s]\u001b[A\n",
      " 69% 66/95 [00:10<00:03,  8.13it/s]\u001b[A\n",
      " 71% 67/95 [00:10<00:03,  7.86it/s]\u001b[A\n",
      " 72% 68/95 [00:10<00:03,  7.81it/s]\u001b[A\n",
      " 73% 69/95 [00:10<00:03,  7.95it/s]\u001b[A\n",
      " 74% 70/95 [00:10<00:03,  8.02it/s]\u001b[A\n",
      " 75% 71/95 [00:10<00:03,  7.97it/s]\u001b[A\n",
      " 76% 72/95 [00:11<00:02,  7.87it/s]\u001b[A\n",
      " 77% 73/95 [00:11<00:02,  7.59it/s]\u001b[A\n",
      " 78% 74/95 [00:11<00:02,  7.65it/s]\u001b[A\n",
      " 79% 75/95 [00:11<00:02,  7.62it/s]\u001b[A\n",
      " 80% 76/95 [00:11<00:02,  7.78it/s]\u001b[A\n",
      " 81% 77/95 [00:11<00:02,  7.78it/s]\u001b[A\n",
      " 82% 78/95 [00:11<00:02,  7.76it/s]\u001b[A\n",
      " 83% 79/95 [00:11<00:02,  7.60it/s]\u001b[A\n",
      " 84% 80/95 [00:12<00:01,  7.81it/s]\u001b[A\n",
      " 85% 81/95 [00:12<00:01,  7.73it/s]\u001b[A\n",
      " 86% 82/95 [00:12<00:01,  7.71it/s]\u001b[A\n",
      " 87% 83/95 [00:12<00:01,  7.69it/s]\u001b[A\n",
      " 88% 84/95 [00:12<00:01,  7.98it/s]\u001b[A\n",
      " 89% 85/95 [00:12<00:01,  8.14it/s]\u001b[A\n",
      " 91% 86/95 [00:12<00:01,  8.17it/s]\u001b[A\n",
      " 92% 87/95 [00:12<00:01,  7.79it/s]\u001b[A\n",
      " 93% 88/95 [00:13<00:00,  7.78it/s]\u001b[A\n",
      " 94% 89/95 [00:13<00:00,  7.76it/s]\u001b[A\n",
      " 95% 90/95 [00:13<00:00,  7.75it/s]\u001b[A\n",
      " 96% 91/95 [00:13<00:00,  7.69it/s]\u001b[A\n",
      " 97% 92/95 [00:13<00:00,  7.65it/s]\u001b[A\n",
      " 98% 93/95 [00:13<00:00,  7.97it/s]\u001b[A\n",
      " 99% 94/95 [00:13<00:00,  8.25it/s]\u001b[A\n",
      "100% 95/95 [00:16<00:00,  5.87it/s]\n",
      "Load checkpoint from: checkpoints/wav2lip_gan.pth\n",
      "Model loaded\n",
      "100% 9/9 [00:33<00:00,  3.76s/it]\n",
      "ffmpeg version 3.4.8-0ubuntu0.2 Copyright (c) 2000-2020 the FFmpeg developers\n",
      "  built with gcc 7 (Ubuntu 7.5.0-3ubuntu1~18.04)\n",
      "  configuration: --prefix=/usr --extra-version=0ubuntu0.2 --toolchain=hardened --libdir=/usr/lib/x86_64-linux-gnu --incdir=/usr/include/x86_64-linux-gnu --enable-gpl --disable-stripping --enable-avresample --enable-avisynth --enable-gnutls --enable-ladspa --enable-libass --enable-libbluray --enable-libbs2b --enable-libcaca --enable-libcdio --enable-libflite --enable-libfontconfig --enable-libfreetype --enable-libfribidi --enable-libgme --enable-libgsm --enable-libmp3lame --enable-libmysofa --enable-libopenjpeg --enable-libopenmpt --enable-libopus --enable-libpulse --enable-librubberband --enable-librsvg --enable-libshine --enable-libsnappy --enable-libsoxr --enable-libspeex --enable-libssh --enable-libtheora --enable-libtwolame --enable-libvorbis --enable-libvpx --enable-libwavpack --enable-libwebp --enable-libx265 --enable-libxml2 --enable-libxvid --enable-libzmq --enable-libzvbi --enable-omx --enable-openal --enable-opengl --enable-sdl2 --enable-libdc1394 --enable-libdrm --enable-libiec61883 --enable-chromaprint --enable-frei0r --enable-libopencv --enable-libx264 --enable-shared\n",
      "  libavutil      55. 78.100 / 55. 78.100\n",
      "  libavcodec     57.107.100 / 57.107.100\n",
      "  libavformat    57. 83.100 / 57. 83.100\n",
      "  libavdevice    57. 10.100 / 57. 10.100\n",
      "  libavfilter     6.107.100 /  6.107.100\n",
      "  libavresample   3.  7.  0 /  3.  7.  0\n",
      "  libswscale      4.  8.100 /  4.  8.100\n",
      "  libswresample   2.  9.100 /  2.  9.100\n",
      "  libpostproc    54.  7.100 / 54.  7.100\n",
      "\u001b[0;33mGuessed Channel Layout for Input Stream #0.0 : mono\n",
      "\u001b[0mInput #0, wav, from 'temp/temp.wav':\n",
      "  Metadata:\n",
      "    encoder         : Lavf57.83.100\n",
      "  Duration: 00:00:35.83, bitrate: 384 kb/s\n",
      "    Stream #0:0: Audio: pcm_s16le ([1][0][0][0] / 0x0001), 24000 Hz, mono, s16, 384 kb/s\n",
      "Input #1, avi, from 'temp/result.avi':\n",
      "  Metadata:\n",
      "    encoder         : Lavf58.26.101\n",
      "  Duration: 00:00:35.70, start: 0.000000, bitrate: 228 kb/s\n",
      "    Stream #1:0: Video: mpeg4 (Simple Profile) (DIVX / 0x58564944), yuv420p, 256x256 [SAR 1:1 DAR 1:1], 221 kb/s, 30 fps, 30 tbr, 30 tbn, 30 tbc\n",
      "Stream mapping:\n",
      "  Stream #1:0 -> #0:0 (mpeg4 (native) -> h264 (libx264))\n",
      "  Stream #0:0 -> #0:1 (pcm_s16le (native) -> aac (native))\n",
      "Press [q] to stop, [?] for help\n",
      "\u001b[1;36m[libx264 @ 0x55ad1e75ca00] \u001b[0m\u001b[0;33m-qscale is ignored, -crf is recommended.\n",
      "\u001b[0m\u001b[1;36m[libx264 @ 0x55ad1e75ca00] \u001b[0musing SAR=1/1\n",
      "\u001b[1;36m[libx264 @ 0x55ad1e75ca00] \u001b[0musing cpu capabilities: MMX2 SSE2Fast SSSE3 SSE4.2 AVX FMA3 BMI2 AVX2\n",
      "\u001b[1;36m[libx264 @ 0x55ad1e75ca00] \u001b[0mprofile High, level 1.3\n",
      "\u001b[1;36m[libx264 @ 0x55ad1e75ca00] \u001b[0m264 - core 152 r2854 e9a5903 - H.264/MPEG-4 AVC codec - Copyleft 2003-2017 - http://www.videolan.org/x264.html - options: cabac=1 ref=3 deblock=1:0:0 analyse=0x3:0x113 me=hex subme=7 psy=1 psy_rd=1.00:0.00 mixed_ref=1 me_range=16 chroma_me=1 trellis=1 8x8dct=1 cqm=0 deadzone=21,11 fast_pskip=1 chroma_qp_offset=-2 threads=3 lookahead_threads=1 sliced_threads=0 nr=0 decimate=1 interlaced=0 bluray_compat=0 constrained_intra=0 bframes=3 b_pyramid=2 b_adapt=1 b_bias=0 direct=1 weightb=1 open_gop=0 weightp=2 keyint=250 keyint_min=25 scenecut=40 intra_refresh=0 rc_lookahead=40 rc=crf mbtree=1 crf=23.0 qcomp=0.60 qpmin=0 qpmax=69 qpstep=4 ip_ratio=1.40 aq=1:1.00\n",
      "Output #0, mp4, to 'results/result_voice.mp4':\n",
      "  Metadata:\n",
      "    encoder         : Lavf57.83.100\n",
      "    Stream #0:0: Video: h264 (libx264) (avc1 / 0x31637661), yuv420p(progressive), 256x256 [SAR 1:1 DAR 1:1], q=-1--1, 30 fps, 15360 tbn, 30 tbc\n",
      "    Metadata:\n",
      "      encoder         : Lavc57.107.100 libx264\n",
      "    Side data:\n",
      "      cpb: bitrate max/min/avg: 0/0/0 buffer size: 0 vbv_delay: -1\n",
      "    Stream #0:1: Audio: aac (LC) (mp4a / 0x6134706D), 24000 Hz, mono, fltp, 69 kb/s\n",
      "    Metadata:\n",
      "      encoder         : Lavc57.107.100 aac\n",
      "frame= 1071 fps=302 q=-1.0 Lsize=     759kB time=00:00:35.84 bitrate= 173.5kbits/s speed=10.1x    \n",
      "video:429kB audio:303kB subtitle:0kB other streams:0kB global headers:0kB muxing overhead: 3.610185%\n",
      "\u001b[1;36m[libx264 @ 0x55ad1e75ca00] \u001b[0mframe I:5     Avg QP:18.13  size:  3845\n",
      "\u001b[1;36m[libx264 @ 0x55ad1e75ca00] \u001b[0mframe P:688   Avg QP:22.66  size:   553\n",
      "\u001b[1;36m[libx264 @ 0x55ad1e75ca00] \u001b[0mframe B:378   Avg QP:20.31  size:   104\n",
      "\u001b[1;36m[libx264 @ 0x55ad1e75ca00] \u001b[0mconsecutive B-frames: 42.4% 28.4%  9.8% 19.4%\n",
      "\u001b[1;36m[libx264 @ 0x55ad1e75ca00] \u001b[0mmb I  I16..4: 20.2% 75.9%  3.9%\n",
      "\u001b[1;36m[libx264 @ 0x55ad1e75ca00] \u001b[0mmb P  I16..4:  0.1%  1.5%  0.0%  P16..4: 28.8% 10.0%  5.0%  0.0%  0.0%    skip:54.6%\n",
      "\u001b[1;36m[libx264 @ 0x55ad1e75ca00] \u001b[0mmb B  I16..4:  0.2%  0.2%  0.0%  B16..8: 20.2%  0.7%  0.1%  direct: 0.2%  skip:78.3%  L0:39.8% L1:57.5% BI: 2.7%\n",
      "\u001b[1;36m[libx264 @ 0x55ad1e75ca00] \u001b[0m8x8 transform intra:84.4% inter:84.5%\n",
      "\u001b[1;36m[libx264 @ 0x55ad1e75ca00] \u001b[0mcoded y,uvDC,uvAC intra: 49.7% 44.3% 13.9% inter: 8.1% 8.6% 0.0%\n",
      "\u001b[1;36m[libx264 @ 0x55ad1e75ca00] \u001b[0mi16 v,h,dc,p: 72%  9% 17%  2%\n",
      "\u001b[1;36m[libx264 @ 0x55ad1e75ca00] \u001b[0mi8 v,h,dc,ddl,ddr,vr,hd,vl,hu: 17% 18% 42%  2%  4%  5%  5%  4%  4%\n",
      "\u001b[1;36m[libx264 @ 0x55ad1e75ca00] \u001b[0mi4 v,h,dc,ddl,ddr,vr,hd,vl,hu: 22% 31% 11%  2%  9% 11%  8%  3%  3%\n",
      "\u001b[1;36m[libx264 @ 0x55ad1e75ca00] \u001b[0mi8c dc,h,v,p: 53% 19% 23%  5%\n",
      "\u001b[1;36m[libx264 @ 0x55ad1e75ca00] \u001b[0mWeighted P-Frames: Y:0.1% UV:0.0%\n",
      "\u001b[1;36m[libx264 @ 0x55ad1e75ca00] \u001b[0mref P L0: 69.7% 16.3% 10.3%  3.7%  0.0%\n",
      "\u001b[1;36m[libx264 @ 0x55ad1e75ca00] \u001b[0mref B L0: 87.1% 10.7%  2.2%\n",
      "\u001b[1;36m[libx264 @ 0x55ad1e75ca00] \u001b[0mref B L1: 99.0%  1.0%\n",
      "\u001b[1;36m[libx264 @ 0x55ad1e75ca00] \u001b[0mkb/s:98.35\n",
      "\u001b[1;36m[aac @ 0x55ad1e72de00] \u001b[0mQavg: 5474.715\n"
     ]
    }
   ],
   "source": [
    "!python inference.py --checkpoint_path checkpoints/wav2lip_gan.pth --face \"./video/amy_2_driver.mp4\" --audio \"./audio/intro_amy.mp3\""
   ]
  },
  {
   "cell_type": "code",
   "execution_count": null,
   "metadata": {
    "id": "uNOAZvkszEOw"
   },
   "outputs": [],
   "source": [
    "# use the \"files\" button on the left to download the result in the Wav2Lip/results/ folder."
   ]
  },
  {
   "cell_type": "markdown",
   "metadata": {
    "id": "d7zgfrQqbKom"
   },
   "source": [
    "## **Variations to try**\n"
   ]
  },
  {
   "cell_type": "markdown",
   "metadata": {
    "id": "0f9A9VDVbZAG"
   },
   "source": [
    "1.   Use more padding to include the chin region"
   ]
  },
  {
   "cell_type": "code",
   "execution_count": null,
   "metadata": {
    "colab": {
     "base_uri": "https://localhost:8080/",
     "height": 1000
    },
    "executionInfo": {
     "elapsed": 22606,
     "status": "ok",
     "timestamp": 1602548364539,
     "user": {
      "displayName": "Steve Lambert",
      "photoUrl": "https://lh3.googleusercontent.com/a-/AOh14GgyZ3KiqkNtC5pZpOOHhjemwBNq1XiV-_gZRQ_72q0=s64",
      "userId": "13912394651788375240"
     },
     "user_tz": 420
    },
    "id": "45XW4SZAzIz5",
    "outputId": "53d32aaf-4ded-4239-e301-e046db8cb18b"
   },
   "outputs": [
    {
     "name": "stdout",
     "output_type": "stream",
     "text": [
      "/usr/local/lib/python3.6/dist-packages/tensorflow/python/framework/dtypes.py:523: FutureWarning: Passing (type, 1) or '1type' as a synonym of type is deprecated; in a future version of numpy, it will be understood as (type, (1,)) / '(1,)type'.\n",
      "  _np_qint8 = np.dtype([(\"qint8\", np.int8, 1)])\n",
      "/usr/local/lib/python3.6/dist-packages/tensorflow/python/framework/dtypes.py:524: FutureWarning: Passing (type, 1) or '1type' as a synonym of type is deprecated; in a future version of numpy, it will be understood as (type, (1,)) / '(1,)type'.\n",
      "  _np_quint8 = np.dtype([(\"quint8\", np.uint8, 1)])\n",
      "/usr/local/lib/python3.6/dist-packages/tensorflow/python/framework/dtypes.py:525: FutureWarning: Passing (type, 1) or '1type' as a synonym of type is deprecated; in a future version of numpy, it will be understood as (type, (1,)) / '(1,)type'.\n",
      "  _np_qint16 = np.dtype([(\"qint16\", np.int16, 1)])\n",
      "/usr/local/lib/python3.6/dist-packages/tensorflow/python/framework/dtypes.py:526: FutureWarning: Passing (type, 1) or '1type' as a synonym of type is deprecated; in a future version of numpy, it will be understood as (type, (1,)) / '(1,)type'.\n",
      "  _np_quint16 = np.dtype([(\"quint16\", np.uint16, 1)])\n",
      "/usr/local/lib/python3.6/dist-packages/tensorflow/python/framework/dtypes.py:527: FutureWarning: Passing (type, 1) or '1type' as a synonym of type is deprecated; in a future version of numpy, it will be understood as (type, (1,)) / '(1,)type'.\n",
      "  _np_qint32 = np.dtype([(\"qint32\", np.int32, 1)])\n",
      "/usr/local/lib/python3.6/dist-packages/tensorflow/python/framework/dtypes.py:532: FutureWarning: Passing (type, 1) or '1type' as a synonym of type is deprecated; in a future version of numpy, it will be understood as (type, (1,)) / '(1,)type'.\n",
      "  np_resource = np.dtype([(\"resource\", np.ubyte, 1)])\n",
      "Using cuda for inference.\n",
      "Reading video frames...\n",
      "Number of frames available for inference: 751\n",
      "Extracting raw audio...\n",
      "ffmpeg version 3.4.8-0ubuntu0.2 Copyright (c) 2000-2020 the FFmpeg developers\n",
      "  built with gcc 7 (Ubuntu 7.5.0-3ubuntu1~18.04)\n",
      "  configuration: --prefix=/usr --extra-version=0ubuntu0.2 --toolchain=hardened --libdir=/usr/lib/x86_64-linux-gnu --incdir=/usr/include/x86_64-linux-gnu --enable-gpl --disable-stripping --enable-avresample --enable-avisynth --enable-gnutls --enable-ladspa --enable-libass --enable-libbluray --enable-libbs2b --enable-libcaca --enable-libcdio --enable-libflite --enable-libfontconfig --enable-libfreetype --enable-libfribidi --enable-libgme --enable-libgsm --enable-libmp3lame --enable-libmysofa --enable-libopenjpeg --enable-libopenmpt --enable-libopus --enable-libpulse --enable-librubberband --enable-librsvg --enable-libshine --enable-libsnappy --enable-libsoxr --enable-libspeex --enable-libssh --enable-libtheora --enable-libtwolame --enable-libvorbis --enable-libvpx --enable-libwavpack --enable-libwebp --enable-libx265 --enable-libxml2 --enable-libxvid --enable-libzmq --enable-libzvbi --enable-omx --enable-openal --enable-opengl --enable-sdl2 --enable-libdc1394 --enable-libdrm --enable-libiec61883 --enable-chromaprint --enable-frei0r --enable-libopencv --enable-libx264 --enable-shared\n",
      "  libavutil      55. 78.100 / 55. 78.100\n",
      "  libavcodec     57.107.100 / 57.107.100\n",
      "  libavformat    57. 83.100 / 57. 83.100\n",
      "  libavdevice    57. 10.100 / 57. 10.100\n",
      "  libavfilter     6.107.100 /  6.107.100\n",
      "  libavresample   3.  7.  0 /  3.  7.  0\n",
      "  libswscale      4.  8.100 /  4.  8.100\n",
      "  libswresample   2.  9.100 /  2.  9.100\n",
      "  libpostproc    54.  7.100 / 54.  7.100\n",
      "\u001b[0;35m[mp3 @ 0x55c56216e000] \u001b[0m\u001b[0;33mEstimating duration from bitrate, this may be inaccurate\n",
      "\u001b[0mInput #0, mp3, from './audio/mood_brian.mp3':\n",
      "  Metadata:\n",
      "    encoder         : Lavf57.71.100\n",
      "  Duration: 00:00:02.47, start: 0.000000, bitrate: 48 kb/s\n",
      "    Stream #0:0: Audio: mp3, 24000 Hz, mono, s16p, 48 kb/s\n",
      "Stream mapping:\n",
      "  Stream #0:0 -> #0:0 (mp3 (native) -> pcm_s16le (native))\n",
      "Press [q] to stop, [?] for help\n",
      "Output #0, wav, to 'temp/temp.wav':\n",
      "  Metadata:\n",
      "    ISFT            : Lavf57.83.100\n",
      "    Stream #0:0: Audio: pcm_s16le ([1][0][0][0] / 0x0001), 24000 Hz, mono, s16, 384 kb/s\n",
      "    Metadata:\n",
      "      encoder         : Lavc57.107.100 pcm_s16le\n",
      "size=     116kB time=00:00:02.47 bitrate= 384.3kbits/s speed= 640x    \n",
      "video:0kB audio:116kB subtitle:0kB other streams:0kB global headers:0kB muxing overhead: 0.065736%\n",
      "(80, 198)\n",
      "Length of mel chunks: 70\n",
      "  0% 0/1 [00:00<?, ?it/s]\n",
      "  0% 0/5 [00:00<?, ?it/s]\u001b[ATHCudaCheck FAIL file=/pytorch/aten/src/THC/THCGeneral.cpp line=383 error=11 : invalid argument\n",
      "  0% 0/5 [00:00<?, ?it/s]\n",
      "Recovering from OOM error; New batch size: 8\n",
      "\n",
      "  0% 0/9 [00:00<?, ?it/s]\u001b[A\n",
      " 11% 1/9 [00:02<00:18,  2.25s/it]\u001b[A\n",
      " 22% 2/9 [00:02<00:11,  1.61s/it]\u001b[A\n",
      " 33% 3/9 [00:02<00:06,  1.16s/it]\u001b[A\n",
      " 44% 4/9 [00:02<00:04,  1.18it/s]\u001b[A\n",
      " 56% 5/9 [00:02<00:02,  1.59it/s]\u001b[A\n",
      " 67% 6/9 [00:02<00:01,  2.12it/s]\u001b[A\n",
      " 78% 7/9 [00:02<00:00,  2.74it/s]\u001b[A\n",
      " 89% 8/9 [00:03<00:00,  3.44it/s]\u001b[A\n",
      "100% 9/9 [00:05<00:00,  1.67it/s]\n",
      "Load checkpoint from: checkpoints/Wav2Lip.pth\n",
      "Model loaded\n",
      "100% 1/1 [00:12<00:00, 12.58s/it]\n",
      "ffmpeg version 3.4.8-0ubuntu0.2 Copyright (c) 2000-2020 the FFmpeg developers\n",
      "  built with gcc 7 (Ubuntu 7.5.0-3ubuntu1~18.04)\n",
      "  configuration: --prefix=/usr --extra-version=0ubuntu0.2 --toolchain=hardened --libdir=/usr/lib/x86_64-linux-gnu --incdir=/usr/include/x86_64-linux-gnu --enable-gpl --disable-stripping --enable-avresample --enable-avisynth --enable-gnutls --enable-ladspa --enable-libass --enable-libbluray --enable-libbs2b --enable-libcaca --enable-libcdio --enable-libflite --enable-libfontconfig --enable-libfreetype --enable-libfribidi --enable-libgme --enable-libgsm --enable-libmp3lame --enable-libmysofa --enable-libopenjpeg --enable-libopenmpt --enable-libopus --enable-libpulse --enable-librubberband --enable-librsvg --enable-libshine --enable-libsnappy --enable-libsoxr --enable-libspeex --enable-libssh --enable-libtheora --enable-libtwolame --enable-libvorbis --enable-libvpx --enable-libwavpack --enable-libwebp --enable-libx265 --enable-libxml2 --enable-libxvid --enable-libzmq --enable-libzvbi --enable-omx --enable-openal --enable-opengl --enable-sdl2 --enable-libdc1394 --enable-libdrm --enable-libiec61883 --enable-chromaprint --enable-frei0r --enable-libopencv --enable-libx264 --enable-shared\n",
      "  libavutil      55. 78.100 / 55. 78.100\n",
      "  libavcodec     57.107.100 / 57.107.100\n",
      "  libavformat    57. 83.100 / 57. 83.100\n",
      "  libavdevice    57. 10.100 / 57. 10.100\n",
      "  libavfilter     6.107.100 /  6.107.100\n",
      "  libavresample   3.  7.  0 /  3.  7.  0\n",
      "  libswscale      4.  8.100 /  4.  8.100\n",
      "  libswresample   2.  9.100 /  2.  9.100\n",
      "  libpostproc    54.  7.100 / 54.  7.100\n",
      "\u001b[0;33mGuessed Channel Layout for Input Stream #0.0 : mono\n",
      "\u001b[0mInput #0, wav, from 'temp/temp.wav':\n",
      "  Metadata:\n",
      "    encoder         : Lavf57.83.100\n",
      "  Duration: 00:00:02.47, bitrate: 384 kb/s\n",
      "    Stream #0:0: Audio: pcm_s16le ([1][0][0][0] / 0x0001), 24000 Hz, mono, s16, 384 kb/s\n",
      "Input #1, avi, from 'temp/result.avi':\n",
      "  Metadata:\n",
      "    encoder         : Lavf58.26.101\n",
      "  Duration: 00:00:02.33, start: 0.000000, bitrate: 261 kb/s\n",
      "    Stream #1:0: Video: mpeg4 (Simple Profile) (DIVX / 0x58564944), yuv420p, 256x256 [SAR 1:1 DAR 1:1], 239 kb/s, 30 fps, 30 tbr, 30 tbn, 30 tbc\n",
      "Stream mapping:\n",
      "  Stream #1:0 -> #0:0 (mpeg4 (native) -> h264 (libx264))\n",
      "  Stream #0:0 -> #0:1 (pcm_s16le (native) -> aac (native))\n",
      "Press [q] to stop, [?] for help\n",
      "\u001b[1;36m[libx264 @ 0x55e497d0ea00] \u001b[0m\u001b[0;33m-qscale is ignored, -crf is recommended.\n",
      "\u001b[0m\u001b[1;36m[libx264 @ 0x55e497d0ea00] \u001b[0musing SAR=1/1\n",
      "\u001b[1;36m[libx264 @ 0x55e497d0ea00] \u001b[0musing cpu capabilities: MMX2 SSE2Fast SSSE3 SSE4.2 AVX FMA3 BMI2 AVX2\n",
      "\u001b[1;36m[libx264 @ 0x55e497d0ea00] \u001b[0mprofile High, level 1.3\n",
      "\u001b[1;36m[libx264 @ 0x55e497d0ea00] \u001b[0m264 - core 152 r2854 e9a5903 - H.264/MPEG-4 AVC codec - Copyleft 2003-2017 - http://www.videolan.org/x264.html - options: cabac=1 ref=3 deblock=1:0:0 analyse=0x3:0x113 me=hex subme=7 psy=1 psy_rd=1.00:0.00 mixed_ref=1 me_range=16 chroma_me=1 trellis=1 8x8dct=1 cqm=0 deadzone=21,11 fast_pskip=1 chroma_qp_offset=-2 threads=3 lookahead_threads=1 sliced_threads=0 nr=0 decimate=1 interlaced=0 bluray_compat=0 constrained_intra=0 bframes=3 b_pyramid=2 b_adapt=1 b_bias=0 direct=1 weightb=1 open_gop=0 weightp=2 keyint=250 keyint_min=25 scenecut=40 intra_refresh=0 rc_lookahead=40 rc=crf mbtree=1 crf=23.0 qcomp=0.60 qpmin=0 qpmax=69 qpstep=4 ip_ratio=1.40 aq=1:1.00\n",
      "Output #0, mp4, to 'results/result_voice.mp4':\n",
      "  Metadata:\n",
      "    encoder         : Lavf57.83.100\n",
      "    Stream #0:0: Video: h264 (libx264) (avc1 / 0x31637661), yuv420p(progressive), 256x256 [SAR 1:1 DAR 1:1], q=-1--1, 30 fps, 15360 tbn, 30 tbc\n",
      "    Metadata:\n",
      "      encoder         : Lavc57.107.100 libx264\n",
      "    Side data:\n",
      "      cpb: bitrate max/min/avg: 0/0/0 buffer size: 0 vbv_delay: -1\n",
      "    Stream #0:1: Audio: aac (LC) (mp4a / 0x6134706D), 24000 Hz, mono, fltp, 69 kb/s\n",
      "    Metadata:\n",
      "      encoder         : Lavc57.107.100 aac\n",
      "frame=   70 fps=0.0 q=-1.0 Lsize=      52kB time=00:00:02.47 bitrate= 171.5kbits/s speed=9.44x    \n",
      "video:30kB audio:19kB subtitle:0kB other streams:0kB global headers:0kB muxing overhead: 6.114122%\n",
      "\u001b[1;36m[libx264 @ 0x55e497d0ea00] \u001b[0mframe I:1     Avg QP:22.20  size:  3980\n",
      "\u001b[1;36m[libx264 @ 0x55e497d0ea00] \u001b[0mframe P:47    Avg QP:22.76  size:   499\n",
      "\u001b[1;36m[libx264 @ 0x55e497d0ea00] \u001b[0mframe B:22    Avg QP:22.74  size:   108\n",
      "\u001b[1;36m[libx264 @ 0x55e497d0ea00] \u001b[0mconsecutive B-frames: 47.1% 31.4%  4.3% 17.1%\n",
      "\u001b[1;36m[libx264 @ 0x55e497d0ea00] \u001b[0mmb I  I16..4:  8.2% 88.7%  3.1%\n",
      "\u001b[1;36m[libx264 @ 0x55e497d0ea00] \u001b[0mmb P  I16..4:  0.1%  1.2%  0.0%  P16..4: 26.6%  9.0%  4.4%  0.0%  0.0%    skip:58.7%\n",
      "\u001b[1;36m[libx264 @ 0x55e497d0ea00] \u001b[0mmb B  I16..4:  0.1%  0.4%  0.0%  B16..8: 21.3%  0.9%  0.1%  direct: 0.1%  skip:77.0%  L0:46.9% L1:50.7% BI: 2.4%\n",
      "\u001b[1;36m[libx264 @ 0x55e497d0ea00] \u001b[0m8x8 transform intra:89.4% inter:82.3%\n",
      "\u001b[1;36m[libx264 @ 0x55e497d0ea00] \u001b[0mcoded y,uvDC,uvAC intra: 50.4% 49.1% 18.1% inter: 7.6% 8.6% 0.0%\n",
      "\u001b[1;36m[libx264 @ 0x55e497d0ea00] \u001b[0mi16 v,h,dc,p: 26% 18% 34% 21%\n",
      "\u001b[1;36m[libx264 @ 0x55e497d0ea00] \u001b[0mi8 v,h,dc,ddl,ddr,vr,hd,vl,hu: 23% 14% 43%  3%  3%  4%  3%  4%  3%\n",
      "\u001b[1;36m[libx264 @ 0x55e497d0ea00] \u001b[0mi4 v,h,dc,ddl,ddr,vr,hd,vl,hu: 24% 14% 42%  1%  3%  4%  3%  7%  3%\n",
      "\u001b[1;36m[libx264 @ 0x55e497d0ea00] \u001b[0mi8c dc,h,v,p: 50% 24% 20%  7%\n",
      "\u001b[1;36m[libx264 @ 0x55e497d0ea00] \u001b[0mWeighted P-Frames: Y:0.0% UV:0.0%\n",
      "\u001b[1;36m[libx264 @ 0x55e497d0ea00] \u001b[0mref P L0: 71.6% 15.0%  9.2%  4.2%\n",
      "\u001b[1;36m[libx264 @ 0x55e497d0ea00] \u001b[0mref B L0: 88.8%  9.8%  1.4%\n",
      "\u001b[1;36m[libx264 @ 0x55e497d0ea00] \u001b[0mref B L1: 97.7%  2.3%\n",
      "\u001b[1;36m[libx264 @ 0x55e497d0ea00] \u001b[0mkb/s:102.20\n",
      "\u001b[1;36m[aac @ 0x55e497cc7e00] \u001b[0mQavg: 7389.943\n"
     ]
    }
   ],
   "source": [
    "!python inference.py --checkpoint_path checkpoints/Wav2Lip.pth --face \"./video/brian_1_driver.mp4\" --audio \"./audio/mood_brian.mp3\" --pads 0 20 0 0"
   ]
  },
  {
   "cell_type": "markdown",
   "metadata": {
    "id": "uo-WnsxfbwTG"
   },
   "source": [
    "2.   Use resize_factor to reduce the video resolution, as there is a change you might get better results for lower resolution videos. Why? Because the model was trained on low resolution faces."
   ]
  },
  {
   "cell_type": "code",
   "execution_count": null,
   "metadata": {
    "colab": {
     "base_uri": "https://localhost:8080/",
     "height": 1000
    },
    "executionInfo": {
     "elapsed": 21228,
     "status": "ok",
     "timestamp": 1602547658902,
     "user": {
      "displayName": "Steve Lambert",
      "photoUrl": "https://lh3.googleusercontent.com/a-/AOh14GgyZ3KiqkNtC5pZpOOHhjemwBNq1XiV-_gZRQ_72q0=s64",
      "userId": "13912394651788375240"
     },
     "user_tz": 420
    },
    "id": "xw0xFtZ2bsx8",
    "outputId": "6aff3f0a-0199-43ba-a692-9b765916e209"
   },
   "outputs": [
    {
     "name": "stdout",
     "output_type": "stream",
     "text": [
      "/usr/local/lib/python3.6/dist-packages/tensorflow/python/framework/dtypes.py:523: FutureWarning: Passing (type, 1) or '1type' as a synonym of type is deprecated; in a future version of numpy, it will be understood as (type, (1,)) / '(1,)type'.\n",
      "  _np_qint8 = np.dtype([(\"qint8\", np.int8, 1)])\n",
      "/usr/local/lib/python3.6/dist-packages/tensorflow/python/framework/dtypes.py:524: FutureWarning: Passing (type, 1) or '1type' as a synonym of type is deprecated; in a future version of numpy, it will be understood as (type, (1,)) / '(1,)type'.\n",
      "  _np_quint8 = np.dtype([(\"quint8\", np.uint8, 1)])\n",
      "/usr/local/lib/python3.6/dist-packages/tensorflow/python/framework/dtypes.py:525: FutureWarning: Passing (type, 1) or '1type' as a synonym of type is deprecated; in a future version of numpy, it will be understood as (type, (1,)) / '(1,)type'.\n",
      "  _np_qint16 = np.dtype([(\"qint16\", np.int16, 1)])\n",
      "/usr/local/lib/python3.6/dist-packages/tensorflow/python/framework/dtypes.py:526: FutureWarning: Passing (type, 1) or '1type' as a synonym of type is deprecated; in a future version of numpy, it will be understood as (type, (1,)) / '(1,)type'.\n",
      "  _np_quint16 = np.dtype([(\"quint16\", np.uint16, 1)])\n",
      "/usr/local/lib/python3.6/dist-packages/tensorflow/python/framework/dtypes.py:527: FutureWarning: Passing (type, 1) or '1type' as a synonym of type is deprecated; in a future version of numpy, it will be understood as (type, (1,)) / '(1,)type'.\n",
      "  _np_qint32 = np.dtype([(\"qint32\", np.int32, 1)])\n",
      "/usr/local/lib/python3.6/dist-packages/tensorflow/python/framework/dtypes.py:532: FutureWarning: Passing (type, 1) or '1type' as a synonym of type is deprecated; in a future version of numpy, it will be understood as (type, (1,)) / '(1,)type'.\n",
      "  np_resource = np.dtype([(\"resource\", np.ubyte, 1)])\n",
      "Using cuda for inference.\n",
      "Reading video frames...\n",
      "Number of frames available for inference: 755\n",
      "Extracting raw audio...\n",
      "ffmpeg version 3.4.8-0ubuntu0.2 Copyright (c) 2000-2020 the FFmpeg developers\n",
      "  built with gcc 7 (Ubuntu 7.5.0-3ubuntu1~18.04)\n",
      "  configuration: --prefix=/usr --extra-version=0ubuntu0.2 --toolchain=hardened --libdir=/usr/lib/x86_64-linux-gnu --incdir=/usr/include/x86_64-linux-gnu --enable-gpl --disable-stripping --enable-avresample --enable-avisynth --enable-gnutls --enable-ladspa --enable-libass --enable-libbluray --enable-libbs2b --enable-libcaca --enable-libcdio --enable-libflite --enable-libfontconfig --enable-libfreetype --enable-libfribidi --enable-libgme --enable-libgsm --enable-libmp3lame --enable-libmysofa --enable-libopenjpeg --enable-libopenmpt --enable-libopus --enable-libpulse --enable-librubberband --enable-librsvg --enable-libshine --enable-libsnappy --enable-libsoxr --enable-libspeex --enable-libssh --enable-libtheora --enable-libtwolame --enable-libvorbis --enable-libvpx --enable-libwavpack --enable-libwebp --enable-libx265 --enable-libxml2 --enable-libxvid --enable-libzmq --enable-libzvbi --enable-omx --enable-openal --enable-opengl --enable-sdl2 --enable-libdc1394 --enable-libdrm --enable-libiec61883 --enable-chromaprint --enable-frei0r --enable-libopencv --enable-libx264 --enable-shared\n",
      "  libavutil      55. 78.100 / 55. 78.100\n",
      "  libavcodec     57.107.100 / 57.107.100\n",
      "  libavformat    57. 83.100 / 57. 83.100\n",
      "  libavdevice    57. 10.100 / 57. 10.100\n",
      "  libavfilter     6.107.100 /  6.107.100\n",
      "  libavresample   3.  7.  0 /  3.  7.  0\n",
      "  libswscale      4.  8.100 /  4.  8.100\n",
      "  libswresample   2.  9.100 /  2.  9.100\n",
      "  libpostproc    54.  7.100 / 54.  7.100\n",
      "\u001b[0;35m[mp3 @ 0x5621c244a000] \u001b[0m\u001b[0;33mEstimating duration from bitrate, this may be inaccurate\n",
      "\u001b[0mInput #0, mp3, from './audio/mood_amy.mp3':\n",
      "  Metadata:\n",
      "    encoder         : Lavf57.71.100\n",
      "  Duration: 00:00:01.90, start: 0.000000, bitrate: 48 kb/s\n",
      "    Stream #0:0: Audio: mp3, 24000 Hz, mono, s16p, 48 kb/s\n",
      "Stream mapping:\n",
      "  Stream #0:0 -> #0:0 (mp3 (native) -> pcm_s16le (native))\n",
      "Press [q] to stop, [?] for help\n",
      "Output #0, wav, to 'temp/temp.wav':\n",
      "  Metadata:\n",
      "    ISFT            : Lavf57.83.100\n",
      "    Stream #0:0: Audio: pcm_s16le ([1][0][0][0] / 0x0001), 24000 Hz, mono, s16, 384 kb/s\n",
      "    Metadata:\n",
      "      encoder         : Lavc57.107.100 pcm_s16le\n",
      "size=      89kB time=00:00:01.89 bitrate= 384.3kbits/s speed= 604x    \n",
      "video:0kB audio:89kB subtitle:0kB other streams:0kB global headers:0kB muxing overhead: 0.085707%\n",
      "(80, 152)\n",
      "Length of mel chunks: 53\n",
      "  0% 0/1 [00:00<?, ?it/s]\n",
      "  0% 0/4 [00:00<?, ?it/s]\u001b[ATHCudaCheck FAIL file=/pytorch/aten/src/THC/THCGeneral.cpp line=383 error=11 : invalid argument\n",
      "  0% 0/4 [00:00<?, ?it/s]\n",
      "Recovering from OOM error; New batch size: 8\n",
      "\n",
      "  0% 0/7 [00:00<?, ?it/s]\u001b[A\n",
      " 14% 1/7 [00:02<00:13,  2.22s/it]\u001b[A\n",
      " 29% 2/7 [00:02<00:07,  1.58s/it]\u001b[A\n",
      " 43% 3/7 [00:02<00:04,  1.14s/it]\u001b[A\n",
      " 57% 4/7 [00:02<00:02,  1.20it/s]\u001b[A\n",
      " 71% 5/7 [00:02<00:01,  1.62it/s]\u001b[A\n",
      " 86% 6/7 [00:02<00:00,  2.15it/s]\u001b[A\n",
      "100% 7/7 [00:05<00:00,  1.39it/s]\n",
      "Load checkpoint from: checkpoints/Wav2Lip.pth\n",
      "Model loaded\n",
      "100% 1/1 [00:11<00:00, 11.82s/it]\n",
      "ffmpeg version 3.4.8-0ubuntu0.2 Copyright (c) 2000-2020 the FFmpeg developers\n",
      "  built with gcc 7 (Ubuntu 7.5.0-3ubuntu1~18.04)\n",
      "  configuration: --prefix=/usr --extra-version=0ubuntu0.2 --toolchain=hardened --libdir=/usr/lib/x86_64-linux-gnu --incdir=/usr/include/x86_64-linux-gnu --enable-gpl --disable-stripping --enable-avresample --enable-avisynth --enable-gnutls --enable-ladspa --enable-libass --enable-libbluray --enable-libbs2b --enable-libcaca --enable-libcdio --enable-libflite --enable-libfontconfig --enable-libfreetype --enable-libfribidi --enable-libgme --enable-libgsm --enable-libmp3lame --enable-libmysofa --enable-libopenjpeg --enable-libopenmpt --enable-libopus --enable-libpulse --enable-librubberband --enable-librsvg --enable-libshine --enable-libsnappy --enable-libsoxr --enable-libspeex --enable-libssh --enable-libtheora --enable-libtwolame --enable-libvorbis --enable-libvpx --enable-libwavpack --enable-libwebp --enable-libx265 --enable-libxml2 --enable-libxvid --enable-libzmq --enable-libzvbi --enable-omx --enable-openal --enable-opengl --enable-sdl2 --enable-libdc1394 --enable-libdrm --enable-libiec61883 --enable-chromaprint --enable-frei0r --enable-libopencv --enable-libx264 --enable-shared\n",
      "  libavutil      55. 78.100 / 55. 78.100\n",
      "  libavcodec     57.107.100 / 57.107.100\n",
      "  libavformat    57. 83.100 / 57. 83.100\n",
      "  libavdevice    57. 10.100 / 57. 10.100\n",
      "  libavfilter     6.107.100 /  6.107.100\n",
      "  libavresample   3.  7.  0 /  3.  7.  0\n",
      "  libswscale      4.  8.100 /  4.  8.100\n",
      "  libswresample   2.  9.100 /  2.  9.100\n",
      "  libpostproc    54.  7.100 / 54.  7.100\n",
      "\u001b[0;33mGuessed Channel Layout for Input Stream #0.0 : mono\n",
      "\u001b[0mInput #0, wav, from 'temp/temp.wav':\n",
      "  Metadata:\n",
      "    encoder         : Lavf57.83.100\n",
      "  Duration: 00:00:01.90, bitrate: 384 kb/s\n",
      "    Stream #0:0: Audio: pcm_s16le ([1][0][0][0] / 0x0001), 24000 Hz, mono, s16, 384 kb/s\n",
      "Input #1, avi, from 'temp/result.avi':\n",
      "  Metadata:\n",
      "    encoder         : Lavf58.26.101\n",
      "  Duration: 00:00:01.77, start: 0.000000, bitrate: 277 kb/s\n",
      "    Stream #1:0: Video: mpeg4 (Simple Profile) (DIVX / 0x58564944), yuv420p, 256x256 [SAR 1:1 DAR 1:1], 250 kb/s, 30 fps, 30 tbr, 30 tbn, 30 tbc\n",
      "Stream mapping:\n",
      "  Stream #1:0 -> #0:0 (mpeg4 (native) -> h264 (libx264))\n",
      "  Stream #0:0 -> #0:1 (pcm_s16le (native) -> aac (native))\n",
      "Press [q] to stop, [?] for help\n",
      "\u001b[1;36m[libx264 @ 0x56215b94ea00] \u001b[0m\u001b[0;33m-qscale is ignored, -crf is recommended.\n",
      "\u001b[0m\u001b[1;36m[libx264 @ 0x56215b94ea00] \u001b[0musing SAR=1/1\n",
      "\u001b[1;36m[libx264 @ 0x56215b94ea00] \u001b[0musing cpu capabilities: MMX2 SSE2Fast SSSE3 SSE4.2 AVX FMA3 BMI2 AVX2\n",
      "\u001b[1;36m[libx264 @ 0x56215b94ea00] \u001b[0mprofile High, level 1.3\n",
      "\u001b[1;36m[libx264 @ 0x56215b94ea00] \u001b[0m264 - core 152 r2854 e9a5903 - H.264/MPEG-4 AVC codec - Copyleft 2003-2017 - http://www.videolan.org/x264.html - options: cabac=1 ref=3 deblock=1:0:0 analyse=0x3:0x113 me=hex subme=7 psy=1 psy_rd=1.00:0.00 mixed_ref=1 me_range=16 chroma_me=1 trellis=1 8x8dct=1 cqm=0 deadzone=21,11 fast_pskip=1 chroma_qp_offset=-2 threads=3 lookahead_threads=1 sliced_threads=0 nr=0 decimate=1 interlaced=0 bluray_compat=0 constrained_intra=0 bframes=3 b_pyramid=2 b_adapt=1 b_bias=0 direct=1 weightb=1 open_gop=0 weightp=2 keyint=250 keyint_min=25 scenecut=40 intra_refresh=0 rc_lookahead=40 rc=crf mbtree=1 crf=23.0 qcomp=0.60 qpmin=0 qpmax=69 qpstep=4 ip_ratio=1.40 aq=1:1.00\n",
      "Output #0, mp4, to 'results/result_voice.mp4':\n",
      "  Metadata:\n",
      "    encoder         : Lavf57.83.100\n",
      "    Stream #0:0: Video: h264 (libx264) (avc1 / 0x31637661), yuv420p(progressive), 256x256 [SAR 1:1 DAR 1:1], q=-1--1, 30 fps, 15360 tbn, 30 tbc\n",
      "    Metadata:\n",
      "      encoder         : Lavc57.107.100 libx264\n",
      "    Side data:\n",
      "      cpb: bitrate max/min/avg: 0/0/0 buffer size: 0 vbv_delay: -1\n",
      "    Stream #0:1: Audio: aac (LC) (mp4a / 0x6134706D), 24000 Hz, mono, fltp, 69 kb/s\n",
      "    Metadata:\n",
      "      encoder         : Lavc57.107.100 aac\n",
      "frame=   53 fps=0.0 q=-1.0 Lsize=      40kB time=00:00:01.92 bitrate= 171.9kbits/s speed=9.18x    \n",
      "video:23kB audio:14kB subtitle:0kB other streams:0kB global headers:0kB muxing overhead: 7.239595%\n",
      "\u001b[1;36m[libx264 @ 0x56215b94ea00] \u001b[0mframe I:1     Avg QP:21.18  size:  4676\n",
      "\u001b[1;36m[libx264 @ 0x56215b94ea00] \u001b[0mframe P:28    Avg QP:22.30  size:   582\n",
      "\u001b[1;36m[libx264 @ 0x56215b94ea00] \u001b[0mframe B:24    Avg QP:18.24  size:    84\n",
      "\u001b[1;36m[libx264 @ 0x56215b94ea00] \u001b[0mconsecutive B-frames: 24.5% 45.3%  0.0% 30.2%\n",
      "\u001b[1;36m[libx264 @ 0x56215b94ea00] \u001b[0mmb I  I16..4: 16.4% 83.6%  0.0%\n",
      "\u001b[1;36m[libx264 @ 0x56215b94ea00] \u001b[0mmb P  I16..4:  0.1%  0.9%  0.0%  P16..4: 29.1% 10.4%  5.8%  0.0%  0.0%    skip:53.7%\n",
      "\u001b[1;36m[libx264 @ 0x56215b94ea00] \u001b[0mmb B  I16..4:  0.0%  0.1%  0.0%  B16..8: 17.9%  0.5%  0.0%  direct: 0.1%  skip:81.3%  L0:42.7% L1:54.6% BI: 2.7%\n",
      "\u001b[1;36m[libx264 @ 0x56215b94ea00] \u001b[0m8x8 transform intra:84.0% inter:84.2%\n",
      "\u001b[1;36m[libx264 @ 0x56215b94ea00] \u001b[0mcoded y,uvDC,uvAC intra: 72.9% 84.0% 18.9% inter: 7.2% 6.7% 0.0%\n",
      "\u001b[1;36m[libx264 @ 0x56215b94ea00] \u001b[0mi16 v,h,dc,p: 44% 24% 17% 15%\n",
      "\u001b[1;36m[libx264 @ 0x56215b94ea00] \u001b[0mi8 v,h,dc,ddl,ddr,vr,hd,vl,hu: 35% 16% 17%  3%  5% 10%  3%  7%  5%\n",
      "\u001b[1;36m[libx264 @ 0x56215b94ea00] \u001b[0mi4 v,h,dc,ddl,ddr,vr,hd,vl,hu:  0% 69%  0%  0% 12%  6%  0%  6%  6%\n",
      "\u001b[1;36m[libx264 @ 0x56215b94ea00] \u001b[0mi8c dc,h,v,p: 43% 17% 31%  9%\n",
      "\u001b[1;36m[libx264 @ 0x56215b94ea00] \u001b[0mWeighted P-Frames: Y:0.0% UV:0.0%\n",
      "\u001b[1;36m[libx264 @ 0x56215b94ea00] \u001b[0mref P L0: 71.0% 14.5%  9.9%  4.6%\n",
      "\u001b[1;36m[libx264 @ 0x56215b94ea00] \u001b[0mref B L0: 87.2% 10.5%  2.3%\n",
      "\u001b[1;36m[libx264 @ 0x56215b94ea00] \u001b[0mref B L1: 99.2%  0.8%\n",
      "\u001b[1;36m[libx264 @ 0x56215b94ea00] \u001b[0mkb/s:104.11\n",
      "\u001b[1;36m[aac @ 0x56215b8c1e00] \u001b[0mQavg: 10396.633\n"
     ]
    }
   ],
   "source": [
    "!python inference.py --checkpoint_path checkpoints/Wav2Lip.pth --face \"./video/amy_1_driver.mp4\" --audio \"./audio/mood_amy.mp3\" --nosmooth"
   ]
  },
  {
   "cell_type": "code",
   "execution_count": null,
   "metadata": {
    "id": "0NA-fZhRSF0V"
   },
   "outputs": [],
   "source": []
  }
 ],
 "metadata": {
  "accelerator": "GPU",
  "colab": {
   "collapsed_sections": [],
   "name": "Wav2Lip_quick_trial.ipynb",
   "provenance": [],
   "toc_visible": true
  },
  "kernelspec": {
   "display_name": "Python 3",
   "language": "python",
   "name": "python3"
  },
  "language_info": {
   "codemirror_mode": {
    "name": "ipython",
    "version": 3
   },
   "file_extension": ".py",
   "mimetype": "text/x-python",
   "name": "python",
   "nbconvert_exporter": "python",
   "pygments_lexer": "ipython3",
   "version": "3.7.5"
  }
 },
 "nbformat": 4,
 "nbformat_minor": 1
}
